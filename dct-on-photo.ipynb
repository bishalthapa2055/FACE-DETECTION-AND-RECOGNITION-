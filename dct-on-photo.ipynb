{
 "cells": [
  {
   "cell_type": "code",
   "execution_count": 3,
   "metadata": {},
   "outputs": [],
   "source": [
    "import  numpy as np\n",
    "import matplotlib.pyplot as plt\n",
    "import scipy\n",
    "import glob\n",
    "from numpy import pi\n",
    "from numpy import sin\n",
    "from numpy import zeros\n",
    "from numpy import r_\n",
    "from scipy import signal\n",
    "from scipy import misc\n",
    "from scipy import fftpack\n",
    "import matplotlib.pylab as pylab\n",
    "import os\n",
    "import cv2\n",
    "%matplotlib inline"
   ]
  },
  {
   "cell_type": "code",
   "execution_count": 4,
   "metadata": {},
   "outputs": [],
   "source": [
    "pylab.rcParams['figure.figsize'] = (20.0,7.0)\n",
    "def dct2(a):\n",
    "    return scipy.fftpack.dct(scipy.fftpack.dct(a,axis=0,norm='ortho'),axis = 1,norm = 'ortho')\n",
    "def idct2(a):\n",
    "    return scipy.fftpack.idct(scipy.fftpack.idct(a,axis = 0,norm='ortho'),axis=1,norm='ortho')\n",
    "def rgb2gray(rgb):\n",
    "    return np.dot(rgb[...,:3],[0.299,0.587,0.144])"
   ]
  },
  {
   "cell_type": "code",
   "execution_count": null,
   "metadata": {},
   "outputs": [],
   "source": [
    "fullimgpath = glob.glob(r\"C:\\Users\\dell\\Desktop\\saugat\\own-data\\saugat\\*.jpg\") #collect all pic from this path\n",
    "m=100\n",
    "n=0\n",
    "for er in fullimgpath:\n",
    "    im = plt.imread(er).astype(float)\n",
    "    im=rgb2gray(im)\n",
    "    imsize = im.shape\n",
    "    dct = np.zeros(imsize)\n",
    "    #do 8*8 on dct on image\n",
    "    for i in r_[:imsize[0]:8]:\n",
    "        for j in r_[:imsize[1]:8]:\n",
    "            dct[i:(i+8),j:(j+8)] = dct2(im[i:(i+8),j:(j+8)])\n",
    "    #threshold\n",
    "    thresh = 0.012\n",
    "    dct_thresh = dct* (abs(dct)>(thresh*np.max(dct)))\n",
    "    im_dct = np.zeros(imsize)\n",
    "    for i in r_[:imsize[0]:8]:\n",
    "        for j in r_[:imsize[1]:8]:\n",
    "            im_dct[i:(i+8),j:(j+8)]=idct2(dct_thresh[i:(i+8),j:(j+8)])\n",
    "    #plt.figure()\n",
    "    #plt.imshow(np.hstack((im,im_dct)),cmap='gray')\n",
    "    #plt.title(\"comparision between original and dct compressed image s\")\n",
    "    path = r\"C:\\Users\\dell\\Desktop\\saugat\\own-data\\dct-saugat\"\n",
    "    #rgb_weights = [0.2989,0.5870,0.1140]\n",
    "    #gray_scale = np.dot(im_dct[...,:3],rgb_weights)\n",
    "    \n",
    "    plt.imsave(os.path.join(path,str(m)+str(n)+'_dctfaces.jpg'),im_dct,cmap='gray')\n",
    "    m=m-1\n",
    "    n=n+1\n",
    "    "
   ]
  },
  {
   "cell_type": "code",
   "execution_count": null,
   "metadata": {},
   "outputs": [],
   "source": []
  }
 ],
 "metadata": {
  "kernelspec": {
   "display_name": "Python 3",
   "language": "python",
   "name": "python3"
  },
  "language_info": {
   "codemirror_mode": {
    "name": "ipython",
    "version": 3
   },
   "file_extension": ".py",
   "mimetype": "text/x-python",
   "name": "python",
   "nbconvert_exporter": "python",
   "pygments_lexer": "ipython3",
   "version": "3.6.12"
  }
 },
 "nbformat": 4,
 "nbformat_minor": 2
}
