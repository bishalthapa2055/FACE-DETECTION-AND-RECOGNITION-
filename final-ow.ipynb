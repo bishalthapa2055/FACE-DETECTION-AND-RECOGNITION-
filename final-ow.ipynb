{
 "cells": [
  {
   "cell_type": "code",
   "execution_count": 1,
   "metadata": {
    "collapsed": true
   },
   "outputs": [
    {
     "name": "stderr",
     "output_type": "stream",
     "text": [
      "Using TensorFlow backend.\n"
     ]
    }
   ],
   "source": [
    " #Building the CNN\n",
    "\n",
    "# Importing the Keras libraries and packages\n",
    "from keras.models import Sequential\n",
    "from keras.layers import Convolution2D\n",
    "from keras.layers import MaxPooling2D\n",
    "from keras.layers import Flatten\n",
    "from keras.layers import Dense\n",
    "from keras.models import model_from_json\n",
    "\n",
    "batch_size = 400"
   ]
  },
  {
   "cell_type": "code",
   "execution_count": 2,
   "metadata": {},
   "outputs": [],
   "source": [
    "from tensorflow.keras.preprocessing.image import ImageDataGenerator\n",
    "\n",
    "# All images will be rescaled by 1./255\n",
    "train_datagen = ImageDataGenerator(rescale=1/255)\n",
    "test_datagen = ImageDataGenerator(rescale=1/255)"
   ]
  },
  {
   "cell_type": "code",
   "execution_count": 3,
   "metadata": {},
   "outputs": [
    {
     "name": "stdout",
     "output_type": "stream",
     "text": [
      "Found 6152 images belonging to 5 classes.\n"
     ]
    }
   ],
   "source": [
    "# Flow training images in batches of 128 using train_datagen generator\n",
    "path = r\"C:\\Users\\dell\\Desktop\\saugat\\own-data\\train\"\n",
    "train_generator = train_datagen.flow_from_directory(\n",
    "        path,  # This is the source directory for training images\n",
    "        target_size=(200, 200),  # All images will be resized to 200 x 200\n",
    "        batch_size=batch_size,\n",
    "        # Specify the classes explicitly\n",
    "        classes = ['bishal','mitra','ramesh','saugat','un-face'],\n",
    "        # Since we use categorical_crossentropy loss, we need categorical labels\n",
    "        class_mode='categorical')"
   ]
  },
  {
   "cell_type": "code",
   "execution_count": 4,
   "metadata": {},
   "outputs": [
    {
     "name": "stdout",
     "output_type": "stream",
     "text": [
      "Found 184 images belonging to 5 classes.\n"
     ]
    }
   ],
   "source": [
    "# Flow training images in batches of 128 using train_datagen generator\n",
    "#path-test = 'C:/Users/dell/Desktop/new/final-day/dataset-test'\n",
    "test_generator = test_datagen.flow_from_directory(\n",
    "        'C:/Users/dell/Desktop/saugat/own-data/test',  # This is the source directory for testing images\n",
    "        target_size=(200, 200),  # All images will be resized to 200 x 200\n",
    "        batch_size=batch_size,\n",
    "        # Specify the classes explicitly\n",
    "        classes = ['bishal','mitra','ramesh','saugat','un-face'],\n",
    "        # Since we use categorical_crossentropy loss, we need categorical labels\n",
    "        class_mode='categorical')"
   ]
  },
  {
   "cell_type": "code",
   "execution_count": 5,
   "metadata": {},
   "outputs": [
    {
     "name": "stdout",
     "output_type": "stream",
     "text": [
      "Model: \"sequential\"\n",
      "_________________________________________________________________\n",
      "Layer (type)                 Output Shape              Param #   \n",
      "=================================================================\n",
      "conv2d (Conv2D)              (None, 198, 198, 16)      448       \n",
      "_________________________________________________________________\n",
      "max_pooling2d (MaxPooling2D) (None, 99, 99, 16)        0         \n",
      "_________________________________________________________________\n",
      "conv2d_1 (Conv2D)            (None, 97, 97, 32)        4640      \n",
      "_________________________________________________________________\n",
      "max_pooling2d_1 (MaxPooling2 (None, 48, 48, 32)        0         \n",
      "_________________________________________________________________\n",
      "conv2d_2 (Conv2D)            (None, 46, 46, 64)        18496     \n",
      "_________________________________________________________________\n",
      "max_pooling2d_2 (MaxPooling2 (None, 23, 23, 64)        0         \n",
      "_________________________________________________________________\n",
      "conv2d_3 (Conv2D)            (None, 21, 21, 64)        36928     \n",
      "_________________________________________________________________\n",
      "max_pooling2d_3 (MaxPooling2 (None, 10, 10, 64)        0         \n",
      "_________________________________________________________________\n",
      "conv2d_4 (Conv2D)            (None, 8, 8, 64)          36928     \n",
      "_________________________________________________________________\n",
      "max_pooling2d_4 (MaxPooling2 (None, 4, 4, 64)          0         \n",
      "_________________________________________________________________\n",
      "flatten (Flatten)            (None, 1024)              0         \n",
      "_________________________________________________________________\n",
      "dense (Dense)                (None, 128)               131200    \n",
      "_________________________________________________________________\n",
      "dense_1 (Dense)              (None, 5)                 645       \n",
      "=================================================================\n",
      "Total params: 229,285\n",
      "Trainable params: 229,285\n",
      "Non-trainable params: 0\n",
      "_________________________________________________________________\n"
     ]
    }
   ],
   "source": [
    "import tensorflow as tf\n",
    "\n",
    "model = tf.keras.models.Sequential([\n",
    "    # The first convolution\n",
    "    tf.keras.layers.Conv2D(16, (3,3), activation='relu', input_shape=(200, 200, 3)),\n",
    "    tf.keras.layers.MaxPooling2D(2, 2),\n",
    "    # The second convolution\n",
    "    tf.keras.layers.Conv2D(32, (3,3), activation='relu'),\n",
    "    tf.keras.layers.MaxPooling2D(2,2),\n",
    "    # The third convolution\n",
    "    tf.keras.layers.Conv2D(64, (3,3), activation='relu'),\n",
    "    tf.keras.layers.MaxPooling2D(2,2),\n",
    "    # The fourth convolution\n",
    "    tf.keras.layers.Conv2D(64, (3,3), activation='relu'),\n",
    "    tf.keras.layers.MaxPooling2D(2,2),\n",
    "    # The fifth convolution\n",
    "    tf.keras.layers.Conv2D(64, (3,3), activation='relu'),\n",
    "    tf.keras.layers.MaxPooling2D(2,2),\n",
    "    # Flatten the results to feed into a dense layer\n",
    "    tf.keras.layers.Flatten(),\n",
    "    # 128 neuron in the fully-connected layer\n",
    "    tf.keras.layers.Dense(128, activation='relu'),\n",
    "    # 5 output neurons for 5 classes with the softmax activation\n",
    "    tf.keras.layers.Dense(5, activation='softmax')\n",
    "])\n",
    "\n",
    "model.summary()"
   ]
  },
  {
   "cell_type": "code",
   "execution_count": 12,
   "metadata": {},
   "outputs": [],
   "source": [
    "from tensorflow.keras.optimizers import RMSprop\n",
    "\n",
    "model.compile(loss='categorical_crossentropy',\n",
    "              optimizer=RMSprop(lr=0.001),\n",
    "              metrics=['acc'])"
   ]
  },
  {
   "cell_type": "code",
   "execution_count": 13,
   "metadata": {},
   "outputs": [],
   "source": [
    "total_sample=train_generator.n\n",
    "\n",
    "n_epochs = 30"
   ]
  },
  {
   "cell_type": "code",
   "execution_count": 14,
   "metadata": {},
   "outputs": [
    {
     "name": "stdout",
     "output_type": "stream",
     "text": [
      "WARNING:tensorflow:sample_weight modes were coerced from\n",
      "  ...\n",
      "    to  \n",
      "  ['...']\n",
      "Train for 15 steps\n",
      "Epoch 1/30\n",
      "15/15 [==============================] - 236s 16s/step - loss: 0.3864 - acc: 0.8999\n",
      "Epoch 2/30\n",
      "15/15 [==============================] - 183s 12s/step - loss: 0.2212 - acc: 0.9684\n",
      "Epoch 3/30\n",
      "15/15 [==============================] - 206s 14s/step - loss: 0.1999 - acc: 0.9672\n",
      "Epoch 4/30\n",
      "15/15 [==============================] - 202s 13s/step - loss: 0.1231 - acc: 0.9717\n",
      "Epoch 5/30\n",
      "15/15 [==============================] - 196s 13s/step - loss: 0.0806 - acc: 0.9769\n",
      "Epoch 6/30\n",
      "15/15 [==============================] - 195s 13s/step - loss: 0.0534 - acc: 0.9854\n",
      "Epoch 7/30\n",
      "15/15 [==============================] - 190s 13s/step - loss: 0.0465 - acc: 0.9870\n",
      "Epoch 8/30\n",
      "15/15 [==============================] - 193s 13s/step - loss: 0.0401 - acc: 0.9894\n",
      "Epoch 9/30\n",
      "15/15 [==============================] - 198s 13s/step - loss: 0.0335 - acc: 0.9920\n",
      "Epoch 10/30\n",
      "15/15 [==============================] - 192s 13s/step - loss: 0.0287 - acc: 0.9930\n",
      "Epoch 11/30\n",
      "15/15 [==============================] - 188s 13s/step - loss: 0.0229 - acc: 0.9939\n",
      "Epoch 12/30\n",
      "15/15 [==============================] - 191s 13s/step - loss: 0.0246 - acc: 0.9934\n",
      "Epoch 13/30\n",
      "15/15 [==============================] - 179s 12s/step - loss: 0.0176 - acc: 0.9948\n",
      "Epoch 14/30\n",
      "15/15 [==============================] - 171s 11s/step - loss: 0.0196 - acc: 0.9948\n",
      "Epoch 15/30\n",
      "15/15 [==============================] - 175s 12s/step - loss: 0.0139 - acc: 0.9962\n",
      "Epoch 16/30\n",
      "15/15 [==============================] - 181s 12s/step - loss: 0.0121 - acc: 0.9977\n",
      "Epoch 17/30\n",
      "15/15 [==============================] - 187s 12s/step - loss: 0.0180 - acc: 0.9955\n",
      "Epoch 18/30\n",
      "15/15 [==============================] - 189s 13s/step - loss: 0.0074 - acc: 0.9978\n",
      "Epoch 19/30\n",
      "15/15 [==============================] - 175s 12s/step - loss: 0.0094 - acc: 0.9977\n",
      "Epoch 20/30\n",
      "15/15 [==============================] - 167s 11s/step - loss: 0.0056 - acc: 0.9988\n",
      "Epoch 21/30\n",
      "15/15 [==============================] - 181s 12s/step - loss: 0.0124 - acc: 0.9977\n",
      "Epoch 22/30\n",
      "15/15 [==============================] - 182s 12s/step - loss: 0.0069 - acc: 0.9981\n",
      "Epoch 23/30\n",
      "15/15 [==============================] - 176s 12s/step - loss: 0.0039 - acc: 0.9991\n",
      "Epoch 24/30\n",
      "15/15 [==============================] - 176s 12s/step - loss: 0.0164 - acc: 0.9969\n",
      "Epoch 25/30\n",
      "15/15 [==============================] - 183s 12s/step - loss: 0.0032 - acc: 0.9993\n",
      "Epoch 26/30\n",
      "15/15 [==============================] - 174s 12s/step - loss: 0.0107 - acc: 0.9976\n",
      "Epoch 27/30\n",
      "15/15 [==============================] - 175s 12s/step - loss: 0.0042 - acc: 0.9990\n",
      "Epoch 28/30\n",
      "15/15 [==============================] - 171s 11s/step - loss: 0.0089 - acc: 0.9984\n",
      "Epoch 29/30\n",
      "15/15 [==============================] - 170s 11s/step - loss: 8.7169e-04 - acc: 0.9998\n",
      "Epoch 30/30\n",
      "15/15 [==============================] - 167s 11s/step - loss: 1.8643e-04 - acc: 1.0000\n"
     ]
    }
   ],
   "source": [
    "history = model.fit_generator(\n",
    "        train_generator, \n",
    "        steps_per_epoch=int(total_sample/batch_size),  \n",
    "        epochs=n_epochs,\n",
    "        verbose=1)"
   ]
  },
  {
   "cell_type": "code",
   "execution_count": 15,
   "metadata": {},
   "outputs": [],
   "source": [
    "model.save(\"final-5-class.h5\")"
   ]
  },
  {
   "cell_type": "code",
   "execution_count": 17,
   "metadata": {},
   "outputs": [
    {
     "name": "stdout",
     "output_type": "stream",
     "text": [
      "WARNING:tensorflow:sample_weight modes were coerced from\n",
      "  ...\n",
      "    to  \n",
      "  ['...']\n",
      "> 94.022\n"
     ]
    }
   ],
   "source": [
    "from tensorflow import keras\n",
    "model = keras.models.load_model('final-5-class.h5')\n",
    "# evaluate model\n",
    "acc = model.evaluate_generator(test_generator, steps=len(test_generator), verbose=0)\n",
    "#print(acc)\n",
    "print('> %.3f' % (acc[1] * 100.0))\n",
    "#print(acc[1])\n",
    "#probabilities = model.predict_proba(data)"
   ]
  }
 ],
 "metadata": {
  "kernelspec": {
   "display_name": "Python 3",
   "language": "python",
   "name": "python3"
  },
  "language_info": {
   "codemirror_mode": {
    "name": "ipython",
    "version": 3
   },
   "file_extension": ".py",
   "mimetype": "text/x-python",
   "name": "python",
   "nbconvert_exporter": "python",
   "pygments_lexer": "ipython3",
   "version": "3.6.12"
  }
 },
 "nbformat": 4,
 "nbformat_minor": 4
}
